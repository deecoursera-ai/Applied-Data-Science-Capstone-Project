Applied Data Science Capstone Project. This is a coursera project assignment
